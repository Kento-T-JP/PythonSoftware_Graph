{
  "nbformat": 4,
  "nbformat_minor": 0,
  "metadata": {
    "colab": {
      "provenance": []
    },
    "kernelspec": {
      "name": "python3",
      "display_name": "Python 3"
    },
    "language_info": {
      "name": "python"
    }
  },
  "cells": [
    {
      "cell_type": "markdown",
      "metadata": {
        "id": "JybXoiS269xc"
      },
      "source": [
        "# SNS風ソフトウェア\n",
        "GUIは作成せず、システムの部分を作成しました。\n",
        "\n",
        "また、チーム分け機能のみを実装し、イベント機能は実装していません。\n",
        "\n",
        "データの入力方法は戸塚（e1958207@gmail.com）に聞いてください。\n",
        "\n",
        "※もしかしたら、**Django**を使ってGUIを実装するかもしれません。\n",
        "\n",
        "→しませんでした\n",
        "\n",
        "\n",
        "＜注意点＞\n",
        "\n",
        "本プログラムでは関数を多く作っています。\n",
        "\n",
        "デバックやプログラムの可読性・拡張性の観点から関数は独立して動作してほしいので、グローバル変数を使うのは避けました。\n"
      ]
    },
    {
      "cell_type": "markdown",
      "metadata": {
        "id": "iKm1hl3g7SGq"
      },
      "source": [
        "#メイン関数"
      ]
    },
    {
      "cell_type": "code",
      "metadata": {
        "colab": {
          "base_uri": "https://localhost:8080/",
          "height": 1000
        },
        "id": "0K9wLjd86UD1",
        "outputId": "a8e496df-ea23-40eb-9338-dd7a0950d82b"
      },
      "source": [
        "def main():\n",
        "  print(\"＜＜Welcome! OHANA＞＞\\n\")\n",
        "\n",
        "  #ファイル読み込み\n",
        "  user_list = []\n",
        "  user_name_list = []\n",
        "  user_dict = {}\n",
        "  file_name = 'user_info_header.csv' #ファイルの名前を指定\n",
        "  with open(file_name) as f:\n",
        "    header = next(csv.reader(f)) #ヘッダーをスキップできる\n",
        "    data = csv.reader(f)\n",
        "    for row in data:\n",
        "      try:\n",
        "        user = User(row[0], row[1], row[2], row[3]) #アカウント作成\n",
        "\n",
        "        #フォロー関係の読み込み\n",
        "        for i in range(len(row)-4):\n",
        "          if row[i+4] == \"\": #空データは飛ばす\n",
        "            pass\n",
        "          else:\n",
        "            user.follow_list.append(row[i+4]) #フォローリストに追加\n",
        "\n",
        "        user_list.append(user) #全ユーザーをリストに格納\n",
        "        user_name_list.append(user.name)\n",
        "        user_dict[user.name] = user #名前で検索できるようにする\n",
        "\n",
        "      except IndexError: #データが何も入っていない場合の例外処理\n",
        "        print(\"ユーザーはいません\")\n",
        "        sys.exit()\n",
        "\n",
        "  print(\"＜＜My page＞＞\")\n",
        "  while True:\n",
        "    print(\"\\n何をしますか？\")\n",
        "    select = input(\"1：アカウント作成\\n2：ログイン→フォロー\\n3：チーム分け（coloring）\\n4：チーム分け（SCC）\\n5：ユーザー検索\\n6：ユーザー消去\\n7：終了\\nSelect! :\")\n",
        "    if select == \"1\":\n",
        "      updated_list, updated_name_list, updated_dict = create_user(user_list, user_name_list, user_dict)\n",
        "      user_list = updated_list\n",
        "      user_name_list = updated_name_list\n",
        "      user_dict = updated_dict\n",
        "      save(user_list, file_name)\n",
        "\n",
        "    elif select == \"2\": #特に意味は無し\n",
        "      name = input(\"What is your username?\\n\")\n",
        "      for i in range(len(user_list)):\n",
        "        if name == user_list[i].name:\n",
        "          print(\"ログイン成功\")\n",
        "          print(\"ようこそ\",name,\"さん\")\n",
        "          select = input(\"フォローを行いますか？\\n1:Yes, 2:No\\n\")\n",
        "          print(\"あなたのフォロー一覧：\", user_list[i].follow_list)\n",
        "          if select == \"1\":\n",
        "            follow(user_list, user_list[i])\n",
        "          break\n",
        "        elif i == len(user_list)-1:\n",
        "          print(\"ログイン失敗\")\n",
        "\n",
        "    elif select == \"3\":\n",
        "      coloring(user_list, user_name_list) #チーム分けに使用する色塗り関数\n",
        "      save(user_list, file_name) #csvファイルにセーブ\n",
        "\n",
        "    elif select == \"4\":\n",
        "      dsc(user_list, user_dict) #チーム分けに使用する強連結分解関数\n",
        "      save(user_list, file_name) #セーブ\n",
        "\n",
        "    elif select == \"5\":\n",
        "      name = input(\"Who do you want to search?\\n\")\n",
        "      result = user_search(name, user_list) #ユーザーの検索\n",
        "      if result != None:\n",
        "        result.self_introduce()\n",
        "      else:\n",
        "        print(\"メニューに戻ります\")\n",
        "\n",
        "    elif select == \"6\":\n",
        "      user_name = input(\"who do you want to delete?\\n\")\n",
        "      #ユーザーの消去\n",
        "      updated_list, updated_name_list, updated_dict = del_user(user_list,user_name_list, user_dict, user_name)\n",
        "      #各リストのアップデート\n",
        "      user_list = updated_list\n",
        "      user_name_list = updated_name_list\n",
        "      user_dict = updated_dict\n",
        "      save(user_list, file_name) #セーブ\n",
        "\n",
        "    else:\n",
        "      save(user_list, file_name) #ユーザーの情報をCSVファイルに書き出し\n",
        "      print(\"プログラムを終了します\")\n",
        "      break\n",
        "      #sys.exit() #プログラム終了\n",
        "\n",
        "if __name__ == \"__main__\":\n",
        "\tmain()"
      ],
      "execution_count": null,
      "outputs": [
        {
          "name": "stdout",
          "output_type": "stream",
          "text": [
            "＜＜Welcome! OHANA＞＞\n",
            "\n",
            "＜＜My page＞＞\n",
            "\n",
            "何をしますか？\n",
            "1：アカウント作成\n",
            "2：ログイン→フォロー\n",
            "3：チーム分け（coloring）\n",
            "4：チーム分け（SCC）\n",
            "5：ユーザー検索\n",
            "6：ユーザー消去\n",
            "7：終了\n",
            "Select! :3\n"
          ]
        },
        {
          "output_type": "display_data",
          "data": {
            "text/plain": [
              "<Figure size 432x288 with 1 Axes>"
            ],
            "image/png": "[encoded data removed]"
          },
          "metadata": {}
        },
        {
          "output_type": "stream",
          "name": "stdout",
          "text": [
            "\n",
            " [2, 0, 1, 3] の 4 色にチーム分けします\n"
          ]
        },
        {
          "output_type": "display_data",
          "data": {
            "text/plain": [
              "<Figure size 432x288 with 1 Axes>"
            ],
            "image/png": "[encoded data removed]"
          },
          "metadata": {}
        },
        {
          "name": "stdout",
          "output_type": "stream",
          "text": [
            "\n",
            "＜チーム分けの結果＞\n",
            "a : グループ 2\n",
            "b : グループ 0\n",
            "c : グループ 0\n",
            "d : グループ 1\n",
            "e : グループ 1\n",
            "f : グループ 1\n",
            "g : グループ 0\n",
            "h : グループ 0\n",
            "i : グループ 0\n",
            "j : グループ 1\n",
            "k : グループ 0\n",
            "l : グループ 2\n",
            "m : グループ 3\n",
            "n : グループ 0\n",
            "o : グループ 0\n",
            "p : グループ 2\n",
            "q : グループ 1\n",
            "r : グループ 1\n",
            "s : グループ 2\n",
            "t : グループ 1\n",
            "u : グループ 0\n",
            "\n",
            "＜各チームの人数＞\n",
            "グループ2の人数は 4\n",
            "グループ0の人数は 9\n",
            "グループ1の人数は 7\n",
            "グループ3の人数は 1\n",
            "\n",
            "何をしますか？\n",
            "1：アカウント作成\n",
            "2：ログイン→フォロー\n",
            "3：チーム分け（coloring）\n",
            "4：チーム分け（SCC）\n",
            "5：ユーザー検索\n",
            "6：ユーザー消去\n",
            "7：終了\n",
            "Select! :4\n",
            "\n",
            "同じグループの人がばらけるようにランダムにチーム分けします\n",
            "何グループに分けますか？（半角英数）\n",
            "5\n"
          ]
        },
        {
          "output_type": "display_data",
          "data": {
            "text/plain": [
              "<Figure size 640x640 with 1 Axes>"
            ],
            "image/png": "[encoded data removed]"
          },
          "metadata": {}
        },
        {
          "output_type": "stream",
          "name": "stdout",
          "text": [
            "\n",
            "<SCC 1 >\n",
            "i\n",
            "j\n",
            "g\n",
            "d\n",
            "a\n",
            "c\n",
            "b\n",
            "h\n",
            "e\n",
            "f\n",
            "\n",
            "<SCC 2 >\n",
            "o\n",
            "l\n",
            "k\n",
            "r\n",
            "u\n",
            "m\n",
            "s\n",
            "t\n",
            "\n",
            "<SCC 3 >\n",
            "q\n",
            "n\n",
            "p\n",
            "\n",
            "＜チーム分けの結果＞\n",
            "a グループ 4\n",
            "b グループ 0\n",
            "c グループ 4\n",
            "d グループ 1\n",
            "e グループ 3\n",
            "f グループ 1\n",
            "g グループ 3\n",
            "h グループ 2\n",
            "i グループ 0\n",
            "j グループ 2\n",
            "k グループ 3\n",
            "l グループ 4\n",
            "m グループ 0\n",
            "n グループ 2\n",
            "o グループ 1\n",
            "p グループ 2\n",
            "q グループ 4\n",
            "r グループ 0\n",
            "s グループ 3\n",
            "t グループ 1\n",
            "u グループ 2\n",
            "\n",
            "＜各チームの人数＞\n",
            "グループ2の人数は 5\n",
            "グループ4の人数は 4\n",
            "グループ1の人数は 4\n",
            "グループ0の人数は 4\n",
            "グループ3の人数は 4\n",
            "\n",
            "何をしますか？\n",
            "1：アカウント作成\n",
            "2：ログイン→フォロー\n",
            "3：チーム分け（coloring）\n",
            "4：チーム分け（SCC）\n",
            "5：ユーザー検索\n",
            "6：ユーザー消去\n",
            "7：終了\n",
            "Select! :7\n",
            "プログラムを終了します\n"
          ]
        }
      ]
    },
    {
      "cell_type": "markdown",
      "metadata": {
        "id": "TdVgHhBL7PJ6"
      },
      "source": [
        "## ライブラリのインポート"
      ]
    },
    {
      "cell_type": "code",
      "metadata": {
        "id": "Qqla906q63Pb"
      },
      "source": [
        "import csv\n",
        "import networkx as nx\n",
        "import matplotlib.pyplot as plt\n",
        "import collections\n",
        "import sys\n",
        "import random"
      ],
      "execution_count": null,
      "outputs": []
    },
    {
      "cell_type": "markdown",
      "metadata": {
        "id": "mKPJwZcl_PO_"
      },
      "source": [
        "## ユーザーの情報を格納する（Userクラス）\n",
        "名前、性別、年齢、特技などの情報を格納\n"
      ]
    },
    {
      "cell_type": "code",
      "metadata": {
        "id": "xqhMtye8_VAM"
      },
      "source": [
        "class User:\n",
        "  def __init__(self, name, gender, age, special):\n",
        "    self.name = name #名前\n",
        "    self.gender = gender #性別\n",
        "    self.age = age #年齢\n",
        "    self.special = special #特技\n",
        "    self.group = -1 #所属するグループ\n",
        "\n",
        "    self.follow_list = [] #自分のフォローリストを作成\n",
        "    self.rank = None #イベントで使用するランク（今回は関係なし）\n",
        "\n",
        "  def self_introduce(self):\n",
        "      print(\"名前：\", self.name)\n",
        "      print(\"性別：\", self.gender)\n",
        "      print(\"年齢：\", self.age)\n",
        "      print(\"特技：\", self.special)\n",
        "      print(\"所属するグループ（デフォルトは-1）：\", self.group)\n",
        "      print(\"現在のランク：\", self.rank)"
      ],
      "execution_count": null,
      "outputs": []
    },
    {
      "cell_type": "markdown",
      "source": [
        "# ユーザー消去関数"
      ],
      "metadata": {
        "id": "H87UTZTnRLn9"
      }
    },
    {
      "cell_type": "code",
      "source": [
        "def del_user(user_list, user_name_list, user_dict, user_name):\n",
        "  if user_name in user_dict: #ユーザーが存在すれば\n",
        "    user = user_dict[user_name]\n",
        "    del user_dict[user_name] #指定したユーザーを消去\n",
        "    user_list.remove(user) #指定したユーザーを消去\n",
        "    user_name_list.remove(user_name) #指定したユーザーを消去\n",
        "\n",
        "    for user in user_list:#全てのユーザーに対して\n",
        "      if user_name in user.follow_list: #消去対象をフォローしていたら\n",
        "        user.follow_list.remove(user_name) #対象者を消去\n",
        "    print(\"消去が完了しました\")\n",
        "  else:\n",
        "    print(\"ユーザーが存在しません\")\n",
        "  return user_list,user_name_list, user_dict"
      ],
      "metadata": {
        "id": "x4JGFrNluwDK"
      },
      "execution_count": null,
      "outputs": []
    },
    {
      "cell_type": "markdown",
      "source": [
        "# ユーザー検索関数"
      ],
      "metadata": {
        "id": "tbKo9otTUOXE"
      }
    },
    {
      "cell_type": "code",
      "source": [
        "def user_search(name, user_list):\n",
        "    for i in range(len(user_list)): #線形探索\n",
        "      if name == user_list[i].name:\n",
        "        return user_list[i]\n",
        "      elif i == len(user_list)-1: #ユーザーが見つからなかった場合\n",
        "        print(\"The target is not available\")\n",
        "        return None"
      ],
      "metadata": {
        "id": "j0Q8tnoSUPDQ"
      },
      "execution_count": null,
      "outputs": []
    },
    {
      "cell_type": "markdown",
      "metadata": {
        "id": "xwViOOzlBY_h"
      },
      "source": [
        "## create_user関数\n",
        "ユーザーの情報を基にアカウントを作成する\n"
      ]
    },
    {
      "cell_type": "code",
      "metadata": {
        "id": "26kuSKxmBgA1"
      },
      "source": [
        "def create_user(user_list, user_name_list, user_dict):\n",
        "  roop = True\n",
        "  while (roop == True):\n",
        "    name = input(\"Tell me your name!\\n\")\n",
        "\n",
        "    for i in range(len(user_list)): #線形探索\n",
        "      if name == user_list[i].name: #もし名前が一致したら\n",
        "        print(\"This name is already used, please input again :‑(\") #同じ名前のユーザーがいないようにする\n",
        "        break\n",
        "\n",
        "      if i == len(user_list)-1: #最後まで一致しなかったら\n",
        "        roop = False\n",
        "  print(\"What is your gender?\")\n",
        "  gender = input(\"1.Male\\n2.Female\\n3.I prefer not to say\\n4.Let me type...\\n\")\n",
        "  if gender == \"1\":\n",
        "    gender = \"Male\"\n",
        "  elif gender == \"2\":\n",
        "    gender = \"Female\"\n",
        "  elif gender == \"3\":\n",
        "    gender = \"secret\"\n",
        "  else:\n",
        "    gender = input(\"Tell me your gender\\n\")\n",
        "\n",
        "  age = input(\"May I ask your age please?\\n\")\n",
        "  try:\n",
        "    age = int(age)\n",
        "  except ValueError:\n",
        "    age = input('Please enter a \"number\"\\n')\n",
        "\n",
        "  special = input(\"What is your specialty?\\n\")\n",
        "\n",
        "  user = User(name, gender, age, special)\n",
        "  user_list.append(user)\n",
        "  user_name_list.append(user.name)\n",
        "  user_dict[name] = user\n",
        "  print(\"Registration is now Complete. Welcome to OHANA!\")\n",
        "\n",
        "  return user_list, user_name_list, user_dict"
      ],
      "execution_count": null,
      "outputs": []
    },
    {
      "cell_type": "markdown",
      "metadata": {
        "id": "EsptGeY7AzBY"
      },
      "source": [
        "## follow関数\n",
        "フォローを行う関数"
      ]
    },
    {
      "cell_type": "code",
      "metadata": {
        "id": "nHR8sQ4yBItN"
      },
      "source": [
        "def follow(user_list, me):\n",
        "  name = input(\"Who do you follow?\\n\")\n",
        "  user = user_search(name, user_list)\n",
        "  if user != None:\n",
        "    if (user.name in me.follow_list): #ユーザーを既にフォローしていたら\n",
        "      print(\"既にフォローしています\")\n",
        "    else:\n",
        "      me.follow_list.append(user.name) #ユーザーをフォロー\n",
        "      print(\"フォローが完了しました\")\n",
        "      print(\"フォロー一覧：\",me.follow_list)\n",
        "  else:\n",
        "    print(\"フォローに失敗しました\")"
      ],
      "execution_count": null,
      "outputs": []
    },
    {
      "cell_type": "markdown",
      "metadata": {
        "id": "lEKqHJbm8Lqd"
      },
      "source": [
        "## save関数（ファイル書き込み）\n",
        "ユーザーの情報をCSVファイルに書き出す"
      ]
    },
    {
      "cell_type": "code",
      "metadata": {
        "id": "1ZjNWVnO-xxk"
      },
      "source": [
        "def save(user_list, file_name):\n",
        "  with open(file_name,'w', newline='') as f:\n",
        "    writer = csv.writer(f)\n",
        "    if len(user_list) == 0:\n",
        "      pass\n",
        "    else:\n",
        "      header = [\"name\", \"gender\", \"age\", \"special\"]\n",
        "      writer.writerow(header)\n",
        "\n",
        "      for user in user_list: #（データの整合性のため）全ての情報を上書きする\n",
        "        writer.writerow([user.name, user.gender, user.age, user.special] + user.follow_list) #リストの結合\n",
        "  #ユーザーが所属するグループはその都度変わるのでセーブしない\n",
        "\n",
        "  with open('group.csv', 'w', newline='') as f:\n",
        "    writer = csv.writer(f)\n",
        "    if len(user_list) == 0:\n",
        "      pass\n",
        "    else:\n",
        "      header = [\"name\", \"group\"]\n",
        "      writer.writerow(header)\n",
        "      #csvファイルに出力\n",
        "      for user in user_list:\n",
        "        writer.writerow([user.name,user.group])"
      ],
      "execution_count": null,
      "outputs": []
    },
    {
      "cell_type": "markdown",
      "metadata": {
        "id": "SmF9V7bu_sxo"
      },
      "source": [
        "## coloring関数\n",
        "イベントでチーム分けをする際に「点彩色」を使用する。\n",
        "\n",
        "点彩色を利用したチーム分けを行う。\n"
      ]
    },
    {
      "cell_type": "code",
      "metadata": {
        "id": "pIcf9Weh_zwl"
      },
      "source": [
        "def coloring(user_list,user_name_list):\n",
        "  G = nx.Graph() #グラフ\n",
        "\n",
        "  #ユーザーをノードにする\n",
        "  for i in range(len(user_list)):\n",
        "    user = user_list[i] #特定のユーザーを取り出す\n",
        "    G.add_node(user.name) #ユーザーの名前をノードにする\n",
        "    #まず最初にcsvファイルの順にノードを登録する→カラーリングの描画でずれが出る\n",
        "\n",
        "  for i in range(len(user_list)):\n",
        "    user = user_list[i]\n",
        "    #フォロー関係を基にユーザーのつながりを作る\n",
        "    follow_list = user.follow_list\n",
        "    for follow in follow_list:\n",
        "      G.add_edge(user.name, follow) #辺を張る\n",
        "\n",
        "  #色塗り（有向グラフに使えない）\n",
        "  colors = nx.coloring.greedy_color(G, strategy='connected_sequential_dfs') #深さ優先順序でカラーリング\n",
        "  pos = nx.spring_layout(G)\n",
        "  nx.draw(G, pos=pos, with_labels=True)\n",
        "  plt.show()\n",
        "\n",
        "  #チーム分けの処理\n",
        "  color_list = [] #何種類の色があるか調べる\n",
        "  for key in user_list:\n",
        "    value = colors[key.name]\n",
        "    color_list.append(value)\n",
        "  #何種類のチームがあるか調べる\n",
        "  c_num = collections.Counter(color_list) #リストの各要素の出現個数をカウント\n",
        "\n",
        "  key_list = c_num.keys() #c_numはCounterオブジェクト\n",
        "  key_list = list(key_list)\n",
        "  print(\"\\n\",key_list, \"の\", len(key_list),\"色にチーム分けします\")\n",
        "\n",
        "  #もしチーム数が多い場合には、ランダムにチーム分けすることも検討\n",
        "\n",
        "  #参考のために可視化\n",
        "  list_colors = [colors[k] for k in sorted(colors.keys(), key=user_name_list.index)] #csvファイルの順に名前（key）をソート\n",
        "  nx.draw(G, pos=pos, with_labels=True, font_color=\"RED\", node_color=list_colors)\n",
        "  plt.show()\n",
        "\n",
        "  print(\"\\n＜チーム分けの結果＞\")\n",
        "  #colorsは辞書型\n",
        "  for user in user_list:\n",
        "    user.group = int(colors[user.name]) #グループを登録\n",
        "    print(user.name,\":\", \"グループ\",user.group)\n",
        "\n",
        "  print(\"\\n＜各チームの人数＞\")\n",
        "  for group in key_list:\n",
        "    num = list_colors.count(int(group))\n",
        "    print(\"グループ\"+str(group)+\"の人数は\", num)"
      ],
      "execution_count": null,
      "outputs": []
    },
    {
      "cell_type": "markdown",
      "source": [
        "#強連結分解関数\n",
        "イベントで強連結成分を利用したチーム分けを行う。"
      ],
      "metadata": {
        "id": "kT86h-X11_M3"
      }
    },
    {
      "cell_type": "code",
      "source": [
        "def dsc(user_list, user_dict):\n",
        "  print(\"\\n同じグループの人がばらけるようにランダムにチーム分けします\")\n",
        "  n = input(\"何グループに分けますか？（半角英数）\\n\")\n",
        "  try:\n",
        "    n = int(n)\n",
        "  except:\n",
        "    print(\"Error, 3グループに分けます\")\n",
        "    n = 3\n",
        "\n",
        "  Di_G = nx.DiGraph() #有向グラフ\n",
        "\n",
        "  #ユーザーをノードにする\n",
        "  for i in range(len(user_list)):\n",
        "    user = user_list[i] #特定のユーザーを取り出す\n",
        "    Di_G.add_node(user.name)\n",
        "\n",
        "    #フォロー関係を基にユーザーのつながりを作る\n",
        "    follow_list = user.follow_list\n",
        "    for follow in follow_list:\n",
        "      Di_G.add_edge(user.name, follow) #user_name→follwへ有向辺を張る\n",
        "\n",
        "  #参考のために可視化\n",
        "  plt.figure(figsize=(8, 8), dpi=80)\n",
        "  pos = nx.spring_layout(Di_G, k=0.5)\n",
        "  nx.draw_networkx(Di_G, pos=pos, with_labels=True, node_size=700)\n",
        "  plt.show()\n",
        "\n",
        "  #強連結成分分解\n",
        "  groups = sorted(nx.strongly_connected_components(Di_G), key=lambda x: len(x), reverse=True) #グループの要素数の多い順にソート\n",
        "  for i in range(len(groups)):\n",
        "    print(\"\\n<SCC\", i+1,\">\") #強連結成分\n",
        "    elements = list(groups[i]) #set型をリスト型に変換\n",
        "    for name in elements:\n",
        "      print(name)\n",
        "\n",
        "  #チーム分け\n",
        "  i = 0 #0人のグループができるのを防ぐため\n",
        "  rec_group = [] #チームの人数を記録\n",
        "  #random.seed(200) #再現性のため同じseedを使う（同じ乱数の値が出る）\n",
        "  unique_team = random.sample(range(0, n), k=n) #n個の重複の無い乱数のリスト\n",
        "  for group in groups:\n",
        "    for name in group:\n",
        "      #n個のグループに1人ずつ入れる\n",
        "      user = user_dict[name] #名前から検索\n",
        "      user.group = unique_team[i]\n",
        "      rec_group.append(unique_team[i])\n",
        "      i += 1\n",
        "      #iがn人を超えたら乱数を作り直す\n",
        "      if i >= n:\n",
        "        i = 0\n",
        "        #random.seed(200) #再現性\n",
        "        unique_team = random.sample(range(0, n), k=n) #乱数を作り直す（情報セキュリティにおけるnonce的なイメージ）\n",
        "\n",
        "  print(\"\\n＜チーム分けの結果＞\")\n",
        "  for user in user_list:\n",
        "    print(user.name, \"グループ\", user.group)\n",
        "\n",
        "  print(\"\\n＜各チームの人数＞\")\n",
        "  for group in unique_team:\n",
        "    num = rec_group.count(group)\n",
        "    print(\"グループ\"+str(group)+\"の人数は\", num)"
      ],
      "metadata": {
        "id": "evzwf0hG1-Wx"
      },
      "execution_count": null,
      "outputs": []
    }
  ]
}